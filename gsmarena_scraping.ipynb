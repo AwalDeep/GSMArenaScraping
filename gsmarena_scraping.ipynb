{
 "cells": [
  {
   "cell_type": "code",
   "execution_count": 1,
   "metadata": {},
   "outputs": [],
   "source": [
    "import requests\n",
    "from bs4 import BeautifulSoup\n",
    "import csv\n",
    "import os\n",
    "import time\n",
    "import json\n",
    "from tqdm import tqdm\n",
    "from lxml.html import fromstring\n",
    "from itertools import cycle\n",
    "import traceback"
   ]
  },
  {
   "cell_type": "code",
   "execution_count": 2,
   "metadata": {},
   "outputs": [],
   "source": [
    "def get_brands():\n",
    "    page = requests.get(\"https://www.gsmarena.com/makers.php3\")\n",
    "    soup = BeautifulSoup(page.text, 'html.parser')\n",
    "    table = soup.find_all('table')[0]\n",
    "    table_a = table.find_all('a')\n",
    "    phones_brands=[]\n",
    "    for a in table_a:\n",
    "        temp = [a['href'].split('-')[0], a.find('span').text.split(' ')[0], a['href']]\n",
    "        phones_brands.append(temp)\n",
    "    return phones_brands"
   ]
  },
  {
   "cell_type": "code",
   "execution_count": 3,
   "metadata": {},
   "outputs": [],
   "source": [
    "def get_model_links(sub_link):\n",
    "    links = []\n",
    "    nav_link = []\n",
    "    main_link= 'https://www.gsmarena.com/'\n",
    "    phone_brand_link = main_link+sub_link\n",
    "    page = requests.get(phone_brand_link)\n",
    "    soup = BeautifulSoup(page.text, 'html.parser')\n",
    "\n",
    "    nav_data = soup.find(class_='nav-pages')\n",
    "    if not nav_data:\n",
    "        nav_link.append(phone_brand_link)\n",
    "    else:\n",
    "        nav_link = nav_data.findAll('a')\n",
    "        nav_link = [link['href'] for link in nav_link]\n",
    "        #nav_link.append(phone_brand_link)\n",
    "        #nav_link.insert(0, nav_link.pop())\n",
    "    for link in nav_link:\n",
    "        page = requests.get(main_link+link)\n",
    "        soup = BeautifulSoup(page.text, 'html.parser')\n",
    "        data = soup.find(class_='section-body')\n",
    "        for line1 in data.findAll('a'):\n",
    "            links.append(line1['href'])\n",
    "    return links\n"
   ]
  },
  {
   "cell_type": "code",
   "execution_count": 4,
   "metadata": {},
   "outputs": [],
   "source": [
    "def get_models_specs(sub_link,proxy):\n",
    "    phone_data = {}\n",
    "    link='https://www.gsmarena.com/'+sub_link\n",
    "    #soup = self.crawl_html_page(link)\n",
    "    #proxies={\"http\": \"http://103.135.251.57:8080\",\n",
    "    #       \"https\": \"http://103.135.251.57:8080\"}\n",
    "    page = requests.get(link,proxies=proxy)\n",
    "    soup = BeautifulSoup(page.text, 'html.parser')\n",
    "    phone_brand = 'acer'\n",
    "\n",
    "    model_name = soup.find(class_='specs-phone-name-title').text\n",
    "    model_img_html = soup.find(class_='specs-photo-main')\n",
    "    model_img = model_img_html.find('img')['src']\n",
    "    phone_data.update({\"Brand\": phone_brand})\n",
    "    phone_data.update({\"Model Name\": model_name})\n",
    "    phone_data.update({\"Model Image\": model_img})\n",
    "    temp = []\n",
    "    for data1 in range(len(soup.findAll('table'))):\n",
    "        table = soup.findAll('table')[data1]\n",
    "        for line in table.findAll('tr'):\n",
    "            temp = []\n",
    "            for l in line.findAll('td'):\n",
    "                text = l.getText()\n",
    "                text = text.strip()\n",
    "                text = text.lstrip()\n",
    "                text = text.rstrip()\n",
    "                text = text.replace(\"\\n\", \"\")\n",
    "                temp.append(text)\n",
    "                if temp[0] in phone_data.keys():\n",
    "                    temp[0] = temp[0] + '_1'\n",
    "                #if temp[0] not in self.features:\n",
    "                #    self.features.append(temp[0])\n",
    "            if not temp:\n",
    "                continue\n",
    "            else:\n",
    "                phone_data.update({temp[0]: temp[1]})\n",
    "    return phone_data"
   ]
  },
  {
   "cell_type": "code",
   "execution_count": 5,
   "metadata": {},
   "outputs": [],
   "source": [
    "def get_proxies():\n",
    "    url = 'https://free-proxy-list.net/'\n",
    "    response = requests.get(url)\n",
    "    parser = fromstring(response.text)\n",
    "    proxies = set()\n",
    "    for i in parser.xpath('//tbody/tr')[:100]:\n",
    "        if i.xpath('.//td[7][contains(text(),\"yes\")]'):\n",
    "            #Grabbing IP and corresponding PORT\n",
    "            proxy = \":\".join([i.xpath('.//td[1]/text()')[0], i.xpath('.//td[2]/text()')[0]])\n",
    "            try:\n",
    "                requests.get(\"https://www.google.com\",proxies={'http': 'http://'+proxy,'https': 'http://'+proxy})\n",
    "                proxies.add(proxy)   \n",
    "            except:\n",
    "                pass\n",
    "    return proxies"
   ]
  },
  {
   "cell_type": "code",
   "execution_count": 6,
   "metadata": {},
   "outputs": [],
   "source": [
    "phone_brands = get_brands()"
   ]
  },
  {
   "cell_type": "code",
   "execution_count": 7,
   "metadata": {},
   "outputs": [
    {
     "data": {
      "text/plain": [
       "[['acer', '100', 'acer-phones-59.php'],\n",
       " ['alcatel', '399', 'alcatel-phones-5.php'],\n",
       " ['allview', '157', 'allview-phones-88.php'],\n",
       " ['amazon', '19', 'amazon-phones-76.php'],\n",
       " ['amoi', '47', 'amoi-phones-28.php']]"
      ]
     },
     "execution_count": 7,
     "metadata": {},
     "output_type": "execute_result"
    }
   ],
   "source": [
    "phone_brands[:5]"
   ]
  },
  {
   "cell_type": "code",
   "execution_count": null,
   "metadata": {},
   "outputs": [],
   "source": [
    "proxies = get_proxies()\n",
    "proxy_pool = cycle(proxies)"
   ]
  },
  {
   "cell_type": "code",
   "execution_count": null,
   "metadata": {},
   "outputs": [],
   "source": [
    "len(proxies)"
   ]
  },
  {
   "cell_type": "code",
   "execution_count": null,
   "metadata": {
    "scrolled": false
   },
   "outputs": [],
   "source": [
    "for entry in phone_brands[:1]: #for entry in phone_brands:\n",
    "    brand_name = entry[0]\n",
    "    brand_link = entry[2]\n",
    "    specs_dict={}\n",
    "    model_specs=[]\n",
    "    count=0\n",
    "    proxy = next(proxy_pool)\n",
    "    prox={'http': 'http://'+proxy,'https': 'http://'+proxy}\n",
    "    prox.pop(\"socks\",None)\n",
    "    for i in get_model_links(brand_link):\n",
    "        count=count+1\n",
    "        print(count)\n",
    "        if count%5==0:\n",
    "            proxy = next(proxy_pool)\n",
    "            print(proxy)\n",
    "            prox={'http': 'http://'+proxy,'https': 'http://'+proxy}\n",
    "            prox.pop(\"socks\",None)\n",
    "        model_specs.append(get_models_specs(i,prox))\n",
    "    specs_dict[brand_name]=model_specs"
   ]
  },
  {
   "cell_type": "code",
   "execution_count": null,
   "metadata": {},
   "outputs": [],
   "source": [
    "len(model_specs)"
   ]
  },
  {
   "cell_type": "code",
   "execution_count": null,
   "metadata": {},
   "outputs": [],
   "source": []
  }
 ],
 "metadata": {
  "kernelspec": {
   "display_name": "Python 3",
   "language": "python",
   "name": "python3"
  },
  "language_info": {
   "codemirror_mode": {
    "name": "ipython",
    "version": 3
   },
   "file_extension": ".py",
   "mimetype": "text/x-python",
   "name": "python",
   "nbconvert_exporter": "python",
   "pygments_lexer": "ipython3",
   "version": "3.7.4"
  }
 },
 "nbformat": 4,
 "nbformat_minor": 2
}
